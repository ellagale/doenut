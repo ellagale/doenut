{
 "cells": [
  {
   "cell_type": "markdown",
   "metadata": {},
   "source": [
    "# Example usage\n",
    "\n",
    "So, you've generated your design and run your experiements. Now comes the hard part of building the model. So to use `doenut` in a project you will need some data to fit. We label these `inputs` and `responses`. First, let's load the packages and set the logging level to something appropriate."
   ]
  },
  {
   "cell_type": "code",
   "execution_count": 42,
   "metadata": {},
   "outputs": [],
   "source": [
    "import doenut\n",
    "import pandas as pd\n",
    "import matplotlib.pyplot as plt\n",
    "\n",
    "doenut.set_log_level(\"WARNING\")"
   ]
  },
  {
   "cell_type": "markdown",
   "metadata": {},
   "source": [
    "Now load the responses into dataframes. In this case, we've already split the data into two csv files so it is nice and straightforward."
   ]
  },
  {
   "cell_type": "code",
   "execution_count": 19,
   "metadata": {},
   "outputs": [],
   "source": [
    "inputs = pd.read_csv(\"data/inputs.csv\")\n",
    "responses = pd.read_csv(\"data/responses.csv\")[\"Profit\"]"
   ]
  },
  {
   "cell_type": "code",
   "execution_count": 20,
   "metadata": {},
   "outputs": [
    {
     "data": {
      "text/html": [
       "<div>\n",
       "<style scoped>\n",
       "    .dataframe tbody tr th:only-of-type {\n",
       "        vertical-align: middle;\n",
       "    }\n",
       "\n",
       "    .dataframe tbody tr th {\n",
       "        vertical-align: top;\n",
       "    }\n",
       "\n",
       "    .dataframe thead th {\n",
       "        text-align: right;\n",
       "    }\n",
       "</style>\n",
       "<table border=\"1\" class=\"dataframe\">\n",
       "  <thead>\n",
       "    <tr style=\"text-align: right;\">\n",
       "      <th></th>\n",
       "      <th>P</th>\n",
       "      <th>Temp.</th>\n",
       "      <th>Flow</th>\n",
       "      <th>Purge</th>\n",
       "      <th>Cool</th>\n",
       "    </tr>\n",
       "  </thead>\n",
       "  <tbody>\n",
       "    <tr>\n",
       "      <th>0</th>\n",
       "      <td>200.0</td>\n",
       "      <td>300.0</td>\n",
       "      <td>10800.0</td>\n",
       "      <td>0.0</td>\n",
       "      <td>-150.0</td>\n",
       "    </tr>\n",
       "    <tr>\n",
       "      <th>1</th>\n",
       "      <td>950.0</td>\n",
       "      <td>300.0</td>\n",
       "      <td>10800.0</td>\n",
       "      <td>0.0</td>\n",
       "      <td>-30.0</td>\n",
       "    </tr>\n",
       "    <tr>\n",
       "      <th>2</th>\n",
       "      <td>200.0</td>\n",
       "      <td>600.0</td>\n",
       "      <td>10800.0</td>\n",
       "      <td>0.0</td>\n",
       "      <td>-30.0</td>\n",
       "    </tr>\n",
       "    <tr>\n",
       "      <th>3</th>\n",
       "      <td>950.0</td>\n",
       "      <td>600.0</td>\n",
       "      <td>10800.0</td>\n",
       "      <td>0.0</td>\n",
       "      <td>-150.0</td>\n",
       "    </tr>\n",
       "    <tr>\n",
       "      <th>4</th>\n",
       "      <td>200.0</td>\n",
       "      <td>300.0</td>\n",
       "      <td>16800.0</td>\n",
       "      <td>0.0</td>\n",
       "      <td>-30.0</td>\n",
       "    </tr>\n",
       "    <tr>\n",
       "      <th>5</th>\n",
       "      <td>950.0</td>\n",
       "      <td>300.0</td>\n",
       "      <td>16800.0</td>\n",
       "      <td>0.0</td>\n",
       "      <td>-150.0</td>\n",
       "    </tr>\n",
       "    <tr>\n",
       "      <th>6</th>\n",
       "      <td>200.0</td>\n",
       "      <td>600.0</td>\n",
       "      <td>16800.0</td>\n",
       "      <td>0.0</td>\n",
       "      <td>-150.0</td>\n",
       "    </tr>\n",
       "    <tr>\n",
       "      <th>7</th>\n",
       "      <td>950.0</td>\n",
       "      <td>600.0</td>\n",
       "      <td>16800.0</td>\n",
       "      <td>0.0</td>\n",
       "      <td>-30.0</td>\n",
       "    </tr>\n",
       "    <tr>\n",
       "      <th>8</th>\n",
       "      <td>200.0</td>\n",
       "      <td>300.0</td>\n",
       "      <td>10800.0</td>\n",
       "      <td>25.0</td>\n",
       "      <td>-150.0</td>\n",
       "    </tr>\n",
       "    <tr>\n",
       "      <th>9</th>\n",
       "      <td>950.0</td>\n",
       "      <td>300.0</td>\n",
       "      <td>10800.0</td>\n",
       "      <td>25.0</td>\n",
       "      <td>-30.0</td>\n",
       "    </tr>\n",
       "    <tr>\n",
       "      <th>10</th>\n",
       "      <td>200.0</td>\n",
       "      <td>600.0</td>\n",
       "      <td>10800.0</td>\n",
       "      <td>25.0</td>\n",
       "      <td>-30.0</td>\n",
       "    </tr>\n",
       "    <tr>\n",
       "      <th>11</th>\n",
       "      <td>950.0</td>\n",
       "      <td>600.0</td>\n",
       "      <td>10800.0</td>\n",
       "      <td>25.0</td>\n",
       "      <td>-150.0</td>\n",
       "    </tr>\n",
       "    <tr>\n",
       "      <th>12</th>\n",
       "      <td>200.0</td>\n",
       "      <td>300.0</td>\n",
       "      <td>16800.0</td>\n",
       "      <td>25.0</td>\n",
       "      <td>-30.0</td>\n",
       "    </tr>\n",
       "    <tr>\n",
       "      <th>13</th>\n",
       "      <td>950.0</td>\n",
       "      <td>300.0</td>\n",
       "      <td>16800.0</td>\n",
       "      <td>25.0</td>\n",
       "      <td>-150.0</td>\n",
       "    </tr>\n",
       "    <tr>\n",
       "      <th>14</th>\n",
       "      <td>200.0</td>\n",
       "      <td>600.0</td>\n",
       "      <td>16800.0</td>\n",
       "      <td>25.0</td>\n",
       "      <td>-150.0</td>\n",
       "    </tr>\n",
       "    <tr>\n",
       "      <th>15</th>\n",
       "      <td>950.0</td>\n",
       "      <td>600.0</td>\n",
       "      <td>16800.0</td>\n",
       "      <td>25.0</td>\n",
       "      <td>-30.0</td>\n",
       "    </tr>\n",
       "    <tr>\n",
       "      <th>16</th>\n",
       "      <td>600.0</td>\n",
       "      <td>450.0</td>\n",
       "      <td>13800.0</td>\n",
       "      <td>15.0</td>\n",
       "      <td>-90.0</td>\n",
       "    </tr>\n",
       "  </tbody>\n",
       "</table>\n",
       "</div>"
      ],
      "text/plain": [
       "        P  Temp.     Flow  Purge   Cool\n",
       "0   200.0  300.0  10800.0    0.0 -150.0\n",
       "1   950.0  300.0  10800.0    0.0  -30.0\n",
       "2   200.0  600.0  10800.0    0.0  -30.0\n",
       "3   950.0  600.0  10800.0    0.0 -150.0\n",
       "4   200.0  300.0  16800.0    0.0  -30.0\n",
       "5   950.0  300.0  16800.0    0.0 -150.0\n",
       "6   200.0  600.0  16800.0    0.0 -150.0\n",
       "7   950.0  600.0  16800.0    0.0  -30.0\n",
       "8   200.0  300.0  10800.0   25.0 -150.0\n",
       "9   950.0  300.0  10800.0   25.0  -30.0\n",
       "10  200.0  600.0  10800.0   25.0  -30.0\n",
       "11  950.0  600.0  10800.0   25.0 -150.0\n",
       "12  200.0  300.0  16800.0   25.0  -30.0\n",
       "13  950.0  300.0  16800.0   25.0 -150.0\n",
       "14  200.0  600.0  16800.0   25.0 -150.0\n",
       "15  950.0  600.0  16800.0   25.0  -30.0\n",
       "16  600.0  450.0  13800.0   15.0  -90.0"
      ]
     },
     "execution_count": 20,
     "metadata": {},
     "output_type": "execute_result"
    }
   ],
   "source": [
    "inputs"
   ]
  },
  {
   "cell_type": "code",
   "execution_count": 21,
   "metadata": {},
   "outputs": [
    {
     "data": {
      "text/plain": [
       "0     10901.0\n",
       "1    -12000.0\n",
       "2     -5222.0\n",
       "3     22675.0\n",
       "4    -12000.0\n",
       "5     54224.0\n",
       "6     -3558.0\n",
       "7     -6188.0\n",
       "8      5264.0\n",
       "9    -12000.0\n",
       "10    -6395.0\n",
       "11    14140.0\n",
       "12   -12000.0\n",
       "13    37206.0\n",
       "14    -5727.0\n",
       "15    -7225.0\n",
       "16    25032.0\n",
       "Name: Profit, dtype: float64"
      ]
     },
     "execution_count": 21,
     "metadata": {},
     "output_type": "execute_result"
    }
   ],
   "source": [
    "responses"
   ]
  },
  {
   "cell_type": "markdown",
   "metadata": {},
   "source": [
    "First, let's create a fully populated model and see how good that is (or isn't)."
   ]
  },
  {
   "cell_type": "code",
   "execution_count": 27,
   "metadata": {},
   "outputs": [
    {
     "name": "stderr",
     "output_type": "stream",
     "text": [
      "INFO - Running Tune Model\n",
      "INFO - Constructing AveragedModel\n",
      "INFO - Applying <class 'doenut.data.modifiers.ortho_scaler.OrthoScaler'> to dataset\n",
      "INFO - Setting response_key to responses\n",
      "INFO - Applying <class 'doenut.data.modifiers.duplicate_remover.DuplicateRemover'> to dataset\n",
      "INFO - Q2 is 0.178\n",
      "INFO - Constructed AveragedModel\n",
      "INFO - Constructing AveragedModel\n",
      "INFO - Setting response_key to responses\n",
      "INFO - Applying <class 'doenut.data.modifiers.duplicate_remover.DuplicateRemover'> to dataset\n",
      "INFO - Q2 is 0.178\n",
      "INFO - Constructed AveragedModel\n"
     ]
    },
    {
     "name": "stdout",
     "output_type": "stream",
     "text": [
      "Model results: R2 0.64, Q2 0.18\n"
     ]
    }
   ],
   "source": [
    "dataset = doenut.data.ModifiableDataSet(inputs, responses)\n",
    "(\n",
    "    basic_scaled_model,\n",
    "    basic_unscaled_model,\n",
    ") = doenut.models.AveragedModel.tune_model(dataset)\n",
    "print(\n",
    "    f\"Model results: R2 {round(basic_scaled_model.r2, 2)}, Q2 {round(basic_scaled_model.q2, 2)}\"\n",
    ")"
   ]
  },
  {
   "cell_type": "markdown",
   "metadata": {},
   "source": [
    "Well, the R2 is OK, but that is not a good Q2. Let's try a saturated model. First we need to generate the dataset and build fresh models."
   ]
  },
  {
   "cell_type": "code",
   "execution_count": 31,
   "metadata": {},
   "outputs": [
    {
     "name": "stderr",
     "output_type": "stream",
     "text": [
      "INFO - Running Tune Model\n",
      "INFO - Constructing AveragedModel\n",
      "INFO - Applying <class 'doenut.data.modifiers.ortho_scaler.OrthoScaler'> to dataset\n",
      "INFO - Setting response_key to responses\n",
      "INFO - Applying <class 'doenut.data.modifiers.duplicate_remover.DuplicateRemover'> to dataset\n"
     ]
    },
    {
     "name": "stdout",
     "output_type": "stream",
     "text": [
      "['P', 'Temp.', 'Flow', 'Purge', 'Cool', 'P**2', 'Temp.**2', 'Flow**2', 'Purge**2', 'Cool**2', 'P*Temp.', 'P*Flow', 'P*Purge', 'P*Cool', 'Temp.*Flow', 'Temp.*Purge', 'Temp.*Cool', 'Flow*Purge', 'Flow*Cool', 'Purge*Cool']\n"
     ]
    },
    {
     "name": "stderr",
     "output_type": "stream",
     "text": [
      "INFO - Q2 is 0.758\n",
      "INFO - Constructed AveragedModel\n",
      "INFO - Constructing AveragedModel\n",
      "INFO - Setting response_key to responses\n",
      "INFO - Applying <class 'doenut.data.modifiers.duplicate_remover.DuplicateRemover'> to dataset\n",
      "INFO - Q2 is 0.793\n",
      "INFO - Constructed AveragedModel\n"
     ]
    },
    {
     "name": "stdout",
     "output_type": "stream",
     "text": [
      "Model results: R2 0.99, Q2 0.76\n"
     ]
    }
   ],
   "source": [
    "saturated_inputs, saturated_source_list = doenut.add_higher_order_terms(inputs)\n",
    "saturated_columns = list(saturated_inputs.columns)\n",
    "print(saturated_columns)\n",
    "saturated_dataset = doenut.data.ModifiableDataSet(saturated_inputs, responses)\n",
    "(\n",
    "    saturated_scaled_model,\n",
    "    saturated_unscaled_model,\n",
    ") = doenut.models.AveragedModel.tune_model(saturated_dataset)\n",
    "print(\n",
    "    f\"Model results: R2 {round(saturated_scaled_model.r2, 2)}, Q2 {round(saturated_scaled_model.q2, 2)}\"\n",
    ")"
   ]
  },
  {
   "cell_type": "markdown",
   "metadata": {},
   "source": [
    "Note that off the bat that is significantly better, but we can still improve. Let's plot the coefficents to see if any are insignificant. Note that this is what we use the *scaled* model for - it allows us to compare the coefficients directly."
   ]
  },
  {
   "cell_type": "code",
   "execution_count": 32,
   "metadata": {},
   "outputs": [
    {
     "name": "stdout",
     "output_type": "stream",
     "text": [
      "Input_selector was: [0, 1, 2, 3, 4, 5, 6, 7, 8, 9, 10, 11, 12, 13, 14, 15, 16, 17, 18, 19]\n",
      "Average coefficients are: [  1.25306962   7.11379047   2.11312542   3.82547541  -6.78594611\n",
      "  -5.01631432  -2.27660597  -4.1607204   -3.69115095  -2.50497266\n",
      "   0.36882115  11.07279902  -2.32877925 -16.79564447  -1.19514006\n",
      "   1.28809486   7.06118971  -0.64517142  -6.8157383    4.11896796]\n",
      "Errors are [2. 2. 2. 2. 2. 2. 2. 2. 2. 2. 2. 2. 2. 2. 2. 2. 2. 2. 2. 2.]\n",
      "Coefficient labels are: ['P', 'Temp.', 'Flow', 'Purge', 'Cool', 'P**2', 'Temp.**2', 'Flow**2', 'Purge**2', 'Cool**2', 'P*Temp.', 'P*Flow', 'P*Purge', 'P*Cool', 'Temp.*Flow', 'Temp.*Purge', 'Temp.*Cool', 'Flow*Purge', 'Flow*Cool', 'Purge*Cool']\n"
     ]
    },
    {
     "data": {
      "image/png": "[encoded data removed]",
      "text/plain": [
       "<Figure size 1600x900 with 1 Axes>"
      ]
     },
     "metadata": {},
     "output_type": "display_data"
    }
   ],
   "source": [
    "doenut.plot.coeff_plot(\n",
    "    saturated_scaled_model.coeffs,\n",
    "    labels=saturated_columns,\n",
    "    errors=\"p95\",\n",
    "    normalise=True,\n",
    ")"
   ]
  },
  {
   "cell_type": "markdown",
   "metadata": {},
   "source": [
    "Let's remove the term `P*Temp`. To do this, make a list of the columns you want (either names *or* by column index) and create a filtered version of the dataset"
   ]
  },
  {
   "cell_type": "code",
   "execution_count": 39,
   "metadata": {},
   "outputs": [
    {
     "name": "stderr",
     "output_type": "stream",
     "text": [
      "INFO - Applying <class 'doenut.data.modifiers.column_selector.ColumnSelector'> to dataset\n",
      "INFO - Running Tune Model\n",
      "INFO - Constructing AveragedModel\n",
      "INFO - Applying <class 'doenut.data.modifiers.ortho_scaler.OrthoScaler'> to dataset\n",
      "INFO - Setting response_key to responses\n",
      "INFO - Applying <class 'doenut.data.modifiers.duplicate_remover.DuplicateRemover'> to dataset\n",
      "INFO - Q2 is 0.765\n",
      "INFO - Constructed AveragedModel\n",
      "INFO - Constructing AveragedModel\n",
      "INFO - Setting response_key to responses\n",
      "INFO - Applying <class 'doenut.data.modifiers.duplicate_remover.DuplicateRemover'> to dataset\n",
      "INFO - Q2 is 0.799\n",
      "INFO - Constructed AveragedModel\n"
     ]
    },
    {
     "name": "stdout",
     "output_type": "stream",
     "text": [
      "Input_selector was: [0, 1, 2, 3, 4, 5, 6, 7, 8, 9, 10, 11, 12, 13, 14, 15, 16, 17, 18]\n",
      "Average coefficients are: [  1.19066062   6.8002752    1.69896309   3.78976886  -4.9481041\n",
      "  -5.29855244  -2.35390278  -4.42824778  -3.67289423  -2.77328902\n",
      "   9.43719155  -2.32877925 -16.91237789  -0.81836908   1.28809486\n",
      "   6.03553243  -0.64517142  -4.0941079    4.11896796]\n",
      "Errors are [2. 2. 2. 2. 2. 2. 2. 2. 2. 2. 2. 2. 2. 2. 2. 2. 2. 2. 2.]\n",
      "Coefficient labels are: ['P', 'Temp.', 'Flow', 'Purge', 'Cool', 'P**2', 'Temp.**2', 'Flow**2', 'Purge**2', 'Cool**2', 'P*Flow', 'P*Purge', 'P*Cool', 'Temp.*Flow', 'Temp.*Purge', 'Temp.*Cool', 'Flow*Purge', 'Flow*Cool', 'Purge*Cool']\n",
      "Model results: R2 0.99, Q2 0.77\n"
     ]
    },
    {
     "data": {
      "image/png": "[encoded data removed]",
      "text/plain": [
       "<Figure size 1600x900 with 1 Axes>"
      ]
     },
     "metadata": {},
     "output_type": "display_data"
    }
   ],
   "source": [
    "column_selector = [x for x in saturated_columns if x != \"P*Temp.\"]\n",
    "filtered_dataset = doenut.data.ModifiableDataSet(\n",
    "    saturated_inputs, responses\n",
    ").filter(column_selector)\n",
    "(\n",
    "    filtered_scaled_model,\n",
    "    filtered_unscaled_model,\n",
    ") = doenut.models.AveragedModel.tune_model(filtered_dataset)\n",
    "doenut.plot.coeff_plot(\n",
    "    filtered_scaled_model.coeffs,\n",
    "    labels=column_selector,\n",
    "    errors=\"p95\",\n",
    "    normalise=True,\n",
    ")\n",
    "print(\n",
    "    f\"Model results: R2 {round(filtered_scaled_model.r2, 2)}, Q2 {round(filtered_scaled_model.q2, 2)}\"\n",
    ")"
   ]
  },
  {
   "cell_type": "markdown",
   "metadata": {},
   "source": [
    "A slight improvement in Q2 *and* we are using fewer terms (generally a good thing). We can also plot how good the fit looks like this:"
   ]
  },
  {
   "cell_type": "code",
   "execution_count": 41,
   "metadata": {},
   "outputs": [
    {
     "data": {
      "image/png": "[encoded data removed]",
      "text/plain": [
       "<Figure size 640x480 with 1 Axes>"
      ]
     },
     "metadata": {},
     "output_type": "display_data"
    }
   ],
   "source": [
    "doenut.plot.plot_observed_vs_predicted(\n",
    "    responses, filtered_unscaled_model.predictions\n",
    ")"
   ]
  },
  {
   "cell_type": "markdown",
   "metadata": {},
   "source": [
    "Not bad. Now normally you would continue around the loop a few times, removing terms until you have a nicely parsimonious model, but for the sake of brevity let's pretend this is the best one (it's not bad, but there are certainly better ones (Excercise for the reader: You can get a Q2 of 0.862 with this approach - see if you can find it!)."
   ]
  },
  {
   "cell_type": "code",
   "execution_count": null,
   "metadata": {},
   "outputs": [],
   "source": []
  }
 ],
 "metadata": {
  "kernelspec": {
   "display_name": "Python 3 (ipykernel)",
   "language": "python",
   "name": "python3"
  },
  "language_info": {
   "codemirror_mode": {
    "name": "ipython",
    "version": 3
   },
   "file_extension": ".py",
   "mimetype": "text/x-python",
   "name": "python",
   "nbconvert_exporter": "python",
   "pygments_lexer": "ipython3",
   "version": "3.12.0"
  }
 },
 "nbformat": 4,
 "nbformat_minor": 4
}
